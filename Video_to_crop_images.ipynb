{
 "cells": [
  {
   "cell_type": "code",
   "execution_count": 2,
   "metadata": {},
   "outputs": [],
   "source": [
    "import numpy as np\n",
    "import cv2\n",
    "import os\n",
    "\n",
    "savepath = '/Users/chandak_rishabh/Box/Machine Learning/python scripts/Untitled Folder/deepposekit-data/datasets/locust/'\n",
    "fpath = '/Users/chandak_rishabh/Box/Machine Learning/python scripts/Untitled Folder/deepposekit-data/datasets/locust'\n",
    "fname = 'video.avi'\n",
    "frame_width = 896\n",
    "frame_height = 896\n",
    "out = cv2.VideoWriter('outpy.avi',cv2.VideoWriter_fourcc('M','J','P','G'), 30, (frame_width,frame_height))\n",
    "\n",
    "os.path.join(fpath,fname)\n",
    "\n",
    "cap = cv2.VideoCapture(os.path.join(fpath,fname))\n",
    "\n",
    "size = 896\n",
    "x = 520\n",
    "y = 100\n",
    "i=0\n",
    "while(cap.isOpened()):\n",
    "    ret, frame = cap.read()\n",
    "    if ret == False:\n",
    "        break\n",
    "    crop_img_rgb = frame[y:y+size, x:x+size].copy()\n",
    "    out.write(crop_img_rgb)\n",
    "    cv2.waitKey(5)\n",
    "\n",
    "cap.release()\n",
    "out.release()\n"
   ]
  },
  {
   "cell_type": "code",
   "execution_count": 12,
   "metadata": {},
   "outputs": [
    {
     "data": {
      "text/plain": [
       "1"
      ]
     },
     "execution_count": 12,
     "metadata": {},
     "output_type": "execute_result"
    }
   ],
   "source": [
    "i"
   ]
  },
  {
   "cell_type": "code",
   "execution_count": null,
   "metadata": {},
   "outputs": [],
   "source": []
  }
 ],
 "metadata": {
  "kernelspec": {
   "display_name": "Python 3",
   "language": "python",
   "name": "python3"
  },
  "language_info": {
   "codemirror_mode": {
    "name": "ipython",
    "version": 3
   },
   "file_extension": ".py",
   "mimetype": "text/x-python",
   "name": "python",
   "nbconvert_exporter": "python",
   "pygments_lexer": "ipython3",
   "version": "3.7.3"
  }
 },
 "nbformat": 4,
 "nbformat_minor": 2
}
